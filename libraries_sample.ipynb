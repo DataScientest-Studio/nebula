{
  "nbformat": 4,
  "nbformat_minor": 0,
  "metadata": {
    "colab": {
      "name": "libraries_sample.ipynb",
      "provenance": [],
      "collapsed_sections": [],
      "toc_visible": true
    },
    "kernelspec": {
      "display_name": "Python 3",
      "language": "python",
      "name": "python3"
    },
    "language_info": {
      "codemirror_mode": {
        "name": "ipython",
        "version": 3
      },
      "file_extension": ".py",
      "mimetype": "text/x-python",
      "name": "python",
      "nbconvert_exporter": "python",
      "pygments_lexer": "ipython3",
      "version": "3.7.6"
    }
  },
  "cells": [
    {
      "cell_type": "markdown",
      "metadata": {
        "id": "zqfyUEZnoLlL"
      },
      "source": [
        "## **Instructions**"
      ]
    },
    {
      "cell_type": "markdown",
      "metadata": {
        "id": "H1-dPF394CXP"
      },
      "source": [
        "  Il faut creer un repertoire \"packages\" puis y placer les fichiers librairies \"*.py\""
      ]
    },
    {
      "cell_type": "markdown",
      "metadata": {
        "id": "usUGbwKO_4gl"
      },
      "source": [
        "Import des librairies"
      ]
    },
    {
      "cell_type": "code",
      "metadata": {
        "id": "NCX67JJCoDCp"
      },
      "source": [
        "from packages.data_processing import *\n",
        "from packages.graphics import *\n",
        "from packages.data_generation import *\n",
        "import pandas as pd"
      ],
      "execution_count": 1,
      "outputs": []
    },
    {
      "cell_type": "markdown",
      "metadata": {
        "id": "pSUM9Y4E81tL"
      },
      "source": [
        "# **1. Librairie data_processing**"
      ]
    },
    {
      "cell_type": "markdown",
      "metadata": {
        "id": "kClE-zLeHMvp"
      },
      "source": [
        "  Fonctions disponibles :\n",
        "  - copy_data_from_drive : Copie et decompression des fichiers depuis le drive google\n",
        "  - load_train           : Chargement des donnees issues du fichier train.csv\n",
        "  - label_parsing        : Separation nom de l'image / label dans 2 colonnes distinctes\n",
        "  - one_hot_encoding     : Codage disjonctif des classes\n",
        "  - get_labels           : Reconstitution d'une description complete des classes depuis une liste de probabilites ou un codage disjonctif"
      ]
    },
    {
      "cell_type": "markdown",
      "metadata": {
        "id": "6k1sPTtM4CXU"
      },
      "source": [
        "### *copy_data_from_drive*"
      ]
    },
    {
      "cell_type": "markdown",
      "metadata": {
        "id": "HyWicYTuoadn"
      },
      "source": [
        "Copie des donnees depuis le drive.<br>\n",
        "Renvoie VRAI si l'operation a reussie, FAUX si un probleme (repertoire ou fichier inexistant) a ete rencontre<br>\n",
        "Les arguments \"from_path\", \"filename\" et \"to_path\" sont disponibles.\n",
        "\n",
        "Attention : il faut que le drive soit monte au prealable."
      ]
    },
    {
      "cell_type": "code",
      "metadata": {
        "id": "M4unkuhlagrc"
      },
      "source": [
        "if not copy_data_from_drive():\n",
        "  print(\"Erreur au chargement des donnees depuis le drive\")"
      ],
      "execution_count": 4,
      "outputs": []
    },
    {
      "cell_type": "markdown",
      "metadata": {
        "id": "m1oO5K664CXV"
      },
      "source": [
        "### *load_train*"
      ]
    },
    {
      "cell_type": "markdown",
      "metadata": {
        "id": "VaOgV2BRjlQi"
      },
      "source": [
        "Chargement du fichier train.csv :<br>\n",
        "Il est possible de preciser un argument filename, par defaut celui-ci vaut \"train.csv\""
      ]
    },
    {
      "cell_type": "code",
      "metadata": {
        "colab": {
          "base_uri": "https://localhost:8080/",
          "height": 202
        },
        "id": "TnsfBkgen2WR",
        "outputId": "2936fb72-85d2-437c-9fb1-fb28981fa026"
      },
      "source": [
        "train = load_train()\n",
        "train.head(5)"
      ],
      "execution_count": 2,
      "outputs": [
        {
          "output_type": "execute_result",
          "data": {
            "text/html": [
              "<div>\n",
              "<style scoped>\n",
              "    .dataframe tbody tr th:only-of-type {\n",
              "        vertical-align: middle;\n",
              "    }\n",
              "\n",
              "    .dataframe tbody tr th {\n",
              "        vertical-align: top;\n",
              "    }\n",
              "\n",
              "    .dataframe thead th {\n",
              "        text-align: right;\n",
              "    }\n",
              "</style>\n",
              "<table border=\"1\" class=\"dataframe\">\n",
              "  <thead>\n",
              "    <tr style=\"text-align: right;\">\n",
              "      <th></th>\n",
              "      <th>Image_Label</th>\n",
              "      <th>EncodedPixels</th>\n",
              "    </tr>\n",
              "  </thead>\n",
              "  <tbody>\n",
              "    <tr>\n",
              "      <th>0</th>\n",
              "      <td>0011165.jpg_Fish</td>\n",
              "      <td>264918 937 266318 937 267718 937 269118 937 27...</td>\n",
              "    </tr>\n",
              "    <tr>\n",
              "      <th>1</th>\n",
              "      <td>0011165.jpg_Flower</td>\n",
              "      <td>1355565 1002 1356965 1002 1358365 1002 1359765...</td>\n",
              "    </tr>\n",
              "    <tr>\n",
              "      <th>2</th>\n",
              "      <td>0011165.jpg_Gravel</td>\n",
              "      <td>NaN</td>\n",
              "    </tr>\n",
              "    <tr>\n",
              "      <th>3</th>\n",
              "      <td>0011165.jpg_Sugar</td>\n",
              "      <td>NaN</td>\n",
              "    </tr>\n",
              "    <tr>\n",
              "      <th>4</th>\n",
              "      <td>002be4f.jpg_Fish</td>\n",
              "      <td>233813 878 235213 878 236613 878 238010 881 23...</td>\n",
              "    </tr>\n",
              "  </tbody>\n",
              "</table>\n",
              "</div>"
            ],
            "text/plain": [
              "          Image_Label                                      EncodedPixels\n",
              "0    0011165.jpg_Fish  264918 937 266318 937 267718 937 269118 937 27...\n",
              "1  0011165.jpg_Flower  1355565 1002 1356965 1002 1358365 1002 1359765...\n",
              "2  0011165.jpg_Gravel                                                NaN\n",
              "3   0011165.jpg_Sugar                                                NaN\n",
              "4    002be4f.jpg_Fish  233813 878 235213 878 236613 878 238010 881 23..."
            ]
          },
          "metadata": {
            "tags": []
          },
          "execution_count": 2
        }
      ]
    },
    {
      "cell_type": "markdown",
      "metadata": {
        "id": "iryWDie6o77t"
      },
      "source": [
        "Parsing image / label<br>\n",
        "L'instruction dropna a volontairement ete traitee hors fonction car il n'est pas certain que nous voulions supprimer les NA dans la phase de segmentation. La laisser dans la fonction restreint par consequent le champs d'action de la fonction et nous obligera a en creer une nouvelle si besoin.<br>\n",
        "Il est possible de preciser un argument \"sep\" stipulant sur quel caractere le split doit etre fait, par defaut celui-ci est a \"_\"\n"
      ]
    },
    {
      "cell_type": "markdown",
      "metadata": {
        "id": "UsNJKWrL4CXW"
      },
      "source": [
        "### *label_parsing*"
      ]
    },
    {
      "cell_type": "code",
      "metadata": {
        "colab": {
          "base_uri": "https://localhost:8080/",
          "height": 202
        },
        "id": "1qDjdxLRsY5N",
        "outputId": "02e185ed-f7f5-41a8-ca98-85cd1c7b3ee1"
      },
      "source": [
        "#Parsing sans suppression des NA restants\n",
        "df1 = label_parsing(train, drop_na=False)\n",
        "df1.head(5)"
      ],
      "execution_count": 3,
      "outputs": [
        {
          "output_type": "execute_result",
          "data": {
            "text/html": [
              "<div>\n",
              "<style scoped>\n",
              "    .dataframe tbody tr th:only-of-type {\n",
              "        vertical-align: middle;\n",
              "    }\n",
              "\n",
              "    .dataframe tbody tr th {\n",
              "        vertical-align: top;\n",
              "    }\n",
              "\n",
              "    .dataframe thead th {\n",
              "        text-align: right;\n",
              "    }\n",
              "</style>\n",
              "<table border=\"1\" class=\"dataframe\">\n",
              "  <thead>\n",
              "    <tr style=\"text-align: right;\">\n",
              "      <th></th>\n",
              "      <th>EncodedPixels</th>\n",
              "      <th>image</th>\n",
              "      <th>label</th>\n",
              "    </tr>\n",
              "  </thead>\n",
              "  <tbody>\n",
              "    <tr>\n",
              "      <th>0</th>\n",
              "      <td>264918 937 266318 937 267718 937 269118 937 27...</td>\n",
              "      <td>0011165.jpg</td>\n",
              "      <td>Fish</td>\n",
              "    </tr>\n",
              "    <tr>\n",
              "      <th>1</th>\n",
              "      <td>1355565 1002 1356965 1002 1358365 1002 1359765...</td>\n",
              "      <td>0011165.jpg</td>\n",
              "      <td>Flower</td>\n",
              "    </tr>\n",
              "    <tr>\n",
              "      <th>2</th>\n",
              "      <td>NaN</td>\n",
              "      <td>0011165.jpg</td>\n",
              "      <td>Gravel</td>\n",
              "    </tr>\n",
              "    <tr>\n",
              "      <th>3</th>\n",
              "      <td>NaN</td>\n",
              "      <td>0011165.jpg</td>\n",
              "      <td>Sugar</td>\n",
              "    </tr>\n",
              "    <tr>\n",
              "      <th>4</th>\n",
              "      <td>233813 878 235213 878 236613 878 238010 881 23...</td>\n",
              "      <td>002be4f.jpg</td>\n",
              "      <td>Fish</td>\n",
              "    </tr>\n",
              "  </tbody>\n",
              "</table>\n",
              "</div>"
            ],
            "text/plain": [
              "                                       EncodedPixels        image   label\n",
              "0  264918 937 266318 937 267718 937 269118 937 27...  0011165.jpg    Fish\n",
              "1  1355565 1002 1356965 1002 1358365 1002 1359765...  0011165.jpg  Flower\n",
              "2                                                NaN  0011165.jpg  Gravel\n",
              "3                                                NaN  0011165.jpg   Sugar\n",
              "4  233813 878 235213 878 236613 878 238010 881 23...  002be4f.jpg    Fish"
            ]
          },
          "metadata": {
            "tags": []
          },
          "execution_count": 3
        }
      ]
    },
    {
      "cell_type": "code",
      "metadata": {
        "colab": {
          "base_uri": "https://localhost:8080/",
          "height": 202
        },
        "id": "ybXtgfzH7wuf",
        "outputId": "c2df1ded-3ef4-4360-ac5f-fcc9294bdd2e"
      },
      "source": [
        "#Parsing avec suppression des NA restants\r\n",
        "train = label_parsing(train)\r\n",
        "train.head(5)"
      ],
      "execution_count": 14,
      "outputs": [
        {
          "output_type": "execute_result",
          "data": {
            "text/html": [
              "<div>\n",
              "<style scoped>\n",
              "    .dataframe tbody tr th:only-of-type {\n",
              "        vertical-align: middle;\n",
              "    }\n",
              "\n",
              "    .dataframe tbody tr th {\n",
              "        vertical-align: top;\n",
              "    }\n",
              "\n",
              "    .dataframe thead th {\n",
              "        text-align: right;\n",
              "    }\n",
              "</style>\n",
              "<table border=\"1\" class=\"dataframe\">\n",
              "  <thead>\n",
              "    <tr style=\"text-align: right;\">\n",
              "      <th></th>\n",
              "      <th>EncodedPixels</th>\n",
              "      <th>image</th>\n",
              "      <th>label</th>\n",
              "    </tr>\n",
              "  </thead>\n",
              "  <tbody>\n",
              "    <tr>\n",
              "      <th>0</th>\n",
              "      <td>264918 937 266318 937 267718 937 269118 937 27...</td>\n",
              "      <td>0011165.jpg</td>\n",
              "      <td>Fish</td>\n",
              "    </tr>\n",
              "    <tr>\n",
              "      <th>1</th>\n",
              "      <td>1355565 1002 1356965 1002 1358365 1002 1359765...</td>\n",
              "      <td>0011165.jpg</td>\n",
              "      <td>Flower</td>\n",
              "    </tr>\n",
              "    <tr>\n",
              "      <th>4</th>\n",
              "      <td>233813 878 235213 878 236613 878 238010 881 23...</td>\n",
              "      <td>002be4f.jpg</td>\n",
              "      <td>Fish</td>\n",
              "    </tr>\n",
              "    <tr>\n",
              "      <th>5</th>\n",
              "      <td>1339279 519 1340679 519 1342079 519 1343479 51...</td>\n",
              "      <td>002be4f.jpg</td>\n",
              "      <td>Flower</td>\n",
              "    </tr>\n",
              "    <tr>\n",
              "      <th>7</th>\n",
              "      <td>67495 350 68895 350 70295 350 71695 350 73095 ...</td>\n",
              "      <td>002be4f.jpg</td>\n",
              "      <td>Sugar</td>\n",
              "    </tr>\n",
              "  </tbody>\n",
              "</table>\n",
              "</div>"
            ],
            "text/plain": [
              "                                       EncodedPixels        image   label\n",
              "0  264918 937 266318 937 267718 937 269118 937 27...  0011165.jpg    Fish\n",
              "1  1355565 1002 1356965 1002 1358365 1002 1359765...  0011165.jpg  Flower\n",
              "4  233813 878 235213 878 236613 878 238010 881 23...  002be4f.jpg    Fish\n",
              "5  1339279 519 1340679 519 1342079 519 1343479 51...  002be4f.jpg  Flower\n",
              "7  67495 350 68895 350 70295 350 71695 350 73095 ...  002be4f.jpg   Sugar"
            ]
          },
          "metadata": {
            "tags": []
          },
          "execution_count": 14
        }
      ]
    },
    {
      "cell_type": "markdown",
      "metadata": {
        "id": "d072ak254CXX"
      },
      "source": [
        "### *one_hot_encoding*"
      ]
    },
    {
      "cell_type": "markdown",
      "metadata": {
        "id": "zjKqxjIi6H0N"
      },
      "source": [
        "Codage disjonctif **avec** reinitialisation des indexes"
      ]
    },
    {
      "cell_type": "code",
      "metadata": {
        "colab": {
          "base_uri": "https://localhost:8080/",
          "height": 202
        },
        "id": "dBeXZQeqzTid",
        "outputId": "06959a53-629a-4664-f8e6-b368b1286315"
      },
      "source": [
        "train_encoded = one_hot_encoding(train)\n",
        "train_encoded.head()"
      ],
      "execution_count": 5,
      "outputs": [
        {
          "output_type": "execute_result",
          "data": {
            "text/html": [
              "<div>\n",
              "<style scoped>\n",
              "    .dataframe tbody tr th:only-of-type {\n",
              "        vertical-align: middle;\n",
              "    }\n",
              "\n",
              "    .dataframe tbody tr th {\n",
              "        vertical-align: top;\n",
              "    }\n",
              "\n",
              "    .dataframe thead th {\n",
              "        text-align: right;\n",
              "    }\n",
              "</style>\n",
              "<table border=\"1\" class=\"dataframe\">\n",
              "  <thead>\n",
              "    <tr style=\"text-align: right;\">\n",
              "      <th></th>\n",
              "      <th>image</th>\n",
              "      <th>Fish</th>\n",
              "      <th>Flower</th>\n",
              "      <th>Gravel</th>\n",
              "      <th>Sugar</th>\n",
              "    </tr>\n",
              "  </thead>\n",
              "  <tbody>\n",
              "    <tr>\n",
              "      <th>0</th>\n",
              "      <td>0011165.jpg</td>\n",
              "      <td>1</td>\n",
              "      <td>1</td>\n",
              "      <td>1</td>\n",
              "      <td>1</td>\n",
              "    </tr>\n",
              "    <tr>\n",
              "      <th>1</th>\n",
              "      <td>002be4f.jpg</td>\n",
              "      <td>1</td>\n",
              "      <td>1</td>\n",
              "      <td>1</td>\n",
              "      <td>1</td>\n",
              "    </tr>\n",
              "    <tr>\n",
              "      <th>2</th>\n",
              "      <td>0031ae9.jpg</td>\n",
              "      <td>1</td>\n",
              "      <td>1</td>\n",
              "      <td>1</td>\n",
              "      <td>1</td>\n",
              "    </tr>\n",
              "    <tr>\n",
              "      <th>3</th>\n",
              "      <td>0035239.jpg</td>\n",
              "      <td>1</td>\n",
              "      <td>1</td>\n",
              "      <td>1</td>\n",
              "      <td>1</td>\n",
              "    </tr>\n",
              "    <tr>\n",
              "      <th>4</th>\n",
              "      <td>003994e.jpg</td>\n",
              "      <td>1</td>\n",
              "      <td>1</td>\n",
              "      <td>1</td>\n",
              "      <td>1</td>\n",
              "    </tr>\n",
              "  </tbody>\n",
              "</table>\n",
              "</div>"
            ],
            "text/plain": [
              "         image  Fish  Flower  Gravel  Sugar\n",
              "0  0011165.jpg     1       1       1      1\n",
              "1  002be4f.jpg     1       1       1      1\n",
              "2  0031ae9.jpg     1       1       1      1\n",
              "3  0035239.jpg     1       1       1      1\n",
              "4  003994e.jpg     1       1       1      1"
            ]
          },
          "metadata": {
            "tags": []
          },
          "execution_count": 5
        }
      ]
    },
    {
      "cell_type": "markdown",
      "metadata": {
        "id": "zWy-pSzX4pc7"
      },
      "source": [
        "Codage disjonctif **sans** reinitialisation des indexes"
      ]
    },
    {
      "cell_type": "code",
      "metadata": {
        "colab": {
          "base_uri": "https://localhost:8080/",
          "height": 233
        },
        "id": "aykbxqlt4mmC",
        "outputId": "b856a1fe-392b-43af-acee-4f6faaf8b4b7"
      },
      "source": [
        "train_encoded = one_hot_encoding(train, reset_index=False)\n",
        "train_encoded.head()"
      ],
      "execution_count": 6,
      "outputs": [
        {
          "output_type": "execute_result",
          "data": {
            "text/html": [
              "<div>\n",
              "<style scoped>\n",
              "    .dataframe tbody tr th:only-of-type {\n",
              "        vertical-align: middle;\n",
              "    }\n",
              "\n",
              "    .dataframe tbody tr th {\n",
              "        vertical-align: top;\n",
              "    }\n",
              "\n",
              "    .dataframe thead th {\n",
              "        text-align: right;\n",
              "    }\n",
              "</style>\n",
              "<table border=\"1\" class=\"dataframe\">\n",
              "  <thead>\n",
              "    <tr style=\"text-align: right;\">\n",
              "      <th></th>\n",
              "      <th>Fish</th>\n",
              "      <th>Flower</th>\n",
              "      <th>Gravel</th>\n",
              "      <th>Sugar</th>\n",
              "    </tr>\n",
              "    <tr>\n",
              "      <th>image</th>\n",
              "      <th></th>\n",
              "      <th></th>\n",
              "      <th></th>\n",
              "      <th></th>\n",
              "    </tr>\n",
              "  </thead>\n",
              "  <tbody>\n",
              "    <tr>\n",
              "      <th>0011165.jpg</th>\n",
              "      <td>1</td>\n",
              "      <td>1</td>\n",
              "      <td>1</td>\n",
              "      <td>1</td>\n",
              "    </tr>\n",
              "    <tr>\n",
              "      <th>002be4f.jpg</th>\n",
              "      <td>1</td>\n",
              "      <td>1</td>\n",
              "      <td>1</td>\n",
              "      <td>1</td>\n",
              "    </tr>\n",
              "    <tr>\n",
              "      <th>0031ae9.jpg</th>\n",
              "      <td>1</td>\n",
              "      <td>1</td>\n",
              "      <td>1</td>\n",
              "      <td>1</td>\n",
              "    </tr>\n",
              "    <tr>\n",
              "      <th>0035239.jpg</th>\n",
              "      <td>1</td>\n",
              "      <td>1</td>\n",
              "      <td>1</td>\n",
              "      <td>1</td>\n",
              "    </tr>\n",
              "    <tr>\n",
              "      <th>003994e.jpg</th>\n",
              "      <td>1</td>\n",
              "      <td>1</td>\n",
              "      <td>1</td>\n",
              "      <td>1</td>\n",
              "    </tr>\n",
              "  </tbody>\n",
              "</table>\n",
              "</div>"
            ],
            "text/plain": [
              "             Fish  Flower  Gravel  Sugar\n",
              "image                                   \n",
              "0011165.jpg     1       1       1      1\n",
              "002be4f.jpg     1       1       1      1\n",
              "0031ae9.jpg     1       1       1      1\n",
              "0035239.jpg     1       1       1      1\n",
              "003994e.jpg     1       1       1      1"
            ]
          },
          "metadata": {
            "tags": []
          },
          "execution_count": 6
        }
      ]
    },
    {
      "cell_type": "markdown",
      "metadata": {
        "id": "jmNO5tq44CXZ"
      },
      "source": [
        "### *get_labels*"
      ]
    },
    {
      "cell_type": "markdown",
      "metadata": {
        "id": "N2FkZE0W4CXZ"
      },
      "source": [
        "Generation d'un label complet correspondant aux valeurs superieures ou egales aux seuils indiques"
      ]
    },
    {
      "cell_type": "code",
      "metadata": {
        "colab": {
          "base_uri": "https://localhost:8080/",
          "height": 34
        },
        "id": "vYd80JIr4CXZ",
        "outputId": "094cb184-0f22-4b0d-e2ff-323a3b9f2808"
      },
      "source": [
        "get_labels([0, 0, 1, 1])"
      ],
      "execution_count": 7,
      "outputs": [
        {
          "output_type": "execute_result",
          "data": {
            "application/vnd.google.colaboratory.intrinsic+json": {
              "type": "string"
            },
            "text/plain": [
              "'Gravel,Sugar'"
            ]
          },
          "metadata": {
            "tags": []
          },
          "execution_count": 7
        }
      ]
    },
    {
      "cell_type": "code",
      "metadata": {
        "colab": {
          "base_uri": "https://localhost:8080/",
          "height": 34
        },
        "id": "u_oh_xgc4CXZ",
        "outputId": "d0430b88-dd31-4004-b55a-fc306c59d6c6"
      },
      "source": [
        "get_labels([0, 1, 1, 0], labels=['classe 1', 'Classe 2', 'Classe 3', 'Classe 4'])"
      ],
      "execution_count": 8,
      "outputs": [
        {
          "output_type": "execute_result",
          "data": {
            "application/vnd.google.colaboratory.intrinsic+json": {
              "type": "string"
            },
            "text/plain": [
              "'Classe 2,Classe 3'"
            ]
          },
          "metadata": {
            "tags": []
          },
          "execution_count": 8
        }
      ]
    },
    {
      "cell_type": "code",
      "metadata": {
        "colab": {
          "base_uri": "https://localhost:8080/",
          "height": 34
        },
        "id": "rqcVtnxv4CXa",
        "outputId": "9e5c13a6-0589-441d-c618-78b4dac57105"
      },
      "source": [
        "get_labels([0.6, 0.9, 0.3, 0.9], threshold=[0.72, 0.87, 0.21, 0.83])"
      ],
      "execution_count": 9,
      "outputs": [
        {
          "output_type": "execute_result",
          "data": {
            "application/vnd.google.colaboratory.intrinsic+json": {
              "type": "string"
            },
            "text/plain": [
              "'Flower,Gravel,Sugar'"
            ]
          },
          "metadata": {
            "tags": []
          },
          "execution_count": 9
        }
      ]
    },
    {
      "cell_type": "markdown",
      "metadata": {
        "id": "n2RXemmz4CXa"
      },
      "source": [
        "# **2. Librairie graphics**"
      ]
    },
    {
      "cell_type": "markdown",
      "metadata": {
        "id": "0i25zgek4CXa"
      },
      "source": [
        "  Fonctions disponibles :\n",
        "  - rleToMask      : Conversion d'un encodage RLE en masque\n",
        "  - surfaceFromRle : Calcul du nombre de pixels couverts par le masque issu d'un encodage RLE"
      ]
    },
    {
      "cell_type": "markdown",
      "metadata": {
        "id": "5meIREIn4CXb"
      },
      "source": [
        "### *rleToMask*"
      ]
    },
    {
      "cell_type": "markdown",
      "metadata": {
        "id": "tN--ynNi4CXb"
      },
      "source": [
        "Generation d'un masque a partir d'un encodage RLE"
      ]
    },
    {
      "cell_type": "code",
      "metadata": {
        "colab": {
          "base_uri": "https://localhost:8080/"
        },
        "id": "XH7eLigK4CXb",
        "outputId": "fe486985-2370-4292-88fc-233afa40c905"
      },
      "source": [
        "rle = train.EncodedPixels[0]   #On extrait le premier code RLE du dataset pour l'exemple\n",
        "mask = rleToMask(rle)   \n",
        "print(\"Type du masque de sortie : \", type(mask))         #le masque est un np.array\n",
        "print(\"Format du masque de sortie : \", mask.shape)       #Si rien n'est precise, le format en sortie sera 1400*2100"
      ],
      "execution_count": 10,
      "outputs": [
        {
          "output_type": "stream",
          "text": [
            "Type du masque de sortie :  <class 'numpy.ndarray'>\n",
            "Format du masque de sortie :  (1400, 2100)\n"
          ],
          "name": "stdout"
        }
      ]
    },
    {
      "cell_type": "code",
      "metadata": {
        "colab": {
          "base_uri": "https://localhost:8080/"
        },
        "id": "4YNeWSOT4CXc",
        "outputId": "68c7e181-06a6-4f3a-e8ab-9d8557c7a807"
      },
      "source": [
        "rle = train.EncodedPixels[0]   #On extrait le premier code RLE du dataset pour l'exemple\n",
        "mask = rleToMask(rle, (2000, 3000))   \n",
        "print(\"Type du masque de sortie : \", type(mask))         #le masque est un np.array\n",
        "print(\"Format du masque de sortie : \", mask.shape)       #Si rien n'est precise, le format en sortie sera 1400*2100"
      ],
      "execution_count": 11,
      "outputs": [
        {
          "output_type": "stream",
          "text": [
            "Type du masque de sortie :  <class 'numpy.ndarray'>\n",
            "Format du masque de sortie :  (3000, 2000)\n"
          ],
          "name": "stdout"
        }
      ]
    },
    {
      "cell_type": "markdown",
      "metadata": {
        "id": "tBdWK_Gj4CXc"
      },
      "source": [
        "Il ne reste ensuite qu'a afficher ou exploiter le masque."
      ]
    },
    {
      "cell_type": "markdown",
      "metadata": {
        "id": "fcgXvTFX4CXc"
      },
      "source": [
        "### *surfaceFromRle*"
      ]
    },
    {
      "cell_type": "markdown",
      "metadata": {
        "id": "L--H5y4y4CXc"
      },
      "source": [
        "Renvoie le nombre de pixels couverts par le masque dont on fournit le code RLE."
      ]
    },
    {
      "cell_type": "code",
      "metadata": {
        "colab": {
          "base_uri": "https://localhost:8080/"
        },
        "id": "PQWVeBy64CXd",
        "outputId": "9b23a0de-a259-4822-d4d9-e91aac69d0c9"
      },
      "source": [
        "train = train.reset_index(drop=True)\n",
        "for i in range(4):\n",
        "    rle = train.EncodedPixels[i]   #On extrait le premier code RLE du dataset pour l'exemple\n",
        "    surface = surfaceFromRle(rle) \n",
        "    print('Surface du masque ', i, ' : ', surface, ' pixels')"
      ],
      "execution_count": 15,
      "outputs": [
        {
          "output_type": "stream",
          "text": [
            "Surface du masque  0  :  932312  pixels\n",
            "Surface du masque  1  :  1156107  pixels\n",
            "Surface du masque  2  :  1684325  pixels\n",
            "Surface du masque  3  :  592697  pixels\n"
          ],
          "name": "stdout"
        }
      ]
    },
    {
      "cell_type": "markdown",
      "metadata": {
        "id": "yTpSeyRH4CXd"
      },
      "source": [
        "# **3. Librairie data_generation**"
      ]
    },
    {
      "cell_type": "markdown",
      "metadata": {
        "id": "Im3XSNdy4CXd"
      },
      "source": [
        "  Fonctions disponibles :\n",
        "  - splitValid : Partage d'un set de donnees selon une proportion ou un nombre d'observations\n",
        "  - makeGen    : Generateur d'images, instanciation d'un objet Keras.ImageDataGenerator"
      ]
    },
    {
      "cell_type": "markdown",
      "metadata": {
        "id": "gsVWWfRw4CXe"
      },
      "source": [
        "### *splitValid*"
      ]
    },
    {
      "cell_type": "markdown",
      "metadata": {
        "id": "49Y2jMYU4CXe"
      },
      "source": [
        "Partage d'un set de donnees selon une proportion ou un nombre d'observations"
      ]
    },
    {
      "cell_type": "code",
      "metadata": {
        "colab": {
          "base_uri": "https://localhost:8080/"
        },
        "id": "4-mCfsxA4CXe",
        "outputId": "7933e1e6-5758-49dd-90c2-1a62eb4f5151"
      },
      "source": [
        "#Ici on split le dataframe train en deux dataframes distincts sur une base 80 / 20\n",
        "df1, df2 = splitValid(train, randomState = 123, test_size = 0.2, shuffle = True)\n",
        "print(\"Nb obs train : \", train.shape)\n",
        "print(\"Nb obs df1   : \", df1.shape)\n",
        "print(\"Nb obs df2   : \", df2.shape)"
      ],
      "execution_count": 16,
      "outputs": [
        {
          "output_type": "stream",
          "text": [
            "Nb obs train :  (11836, 3)\n",
            "Nb obs df1   :  (9468, 3)\n",
            "Nb obs df2   :  (2368, 3)\n"
          ],
          "name": "stdout"
        }
      ]
    },
    {
      "cell_type": "code",
      "metadata": {
        "colab": {
          "base_uri": "https://localhost:8080/",
          "height": 416
        },
        "id": "h4JypTvq-9vg",
        "outputId": "19c32dd7-bffc-4685-e716-433e20e4145d"
      },
      "source": [
        "train[['EncodedPixels', 'label']]"
      ],
      "execution_count": 23,
      "outputs": [
        {
          "output_type": "execute_result",
          "data": {
            "text/html": [
              "<div>\n",
              "<style scoped>\n",
              "    .dataframe tbody tr th:only-of-type {\n",
              "        vertical-align: middle;\n",
              "    }\n",
              "\n",
              "    .dataframe tbody tr th {\n",
              "        vertical-align: top;\n",
              "    }\n",
              "\n",
              "    .dataframe thead th {\n",
              "        text-align: right;\n",
              "    }\n",
              "</style>\n",
              "<table border=\"1\" class=\"dataframe\">\n",
              "  <thead>\n",
              "    <tr style=\"text-align: right;\">\n",
              "      <th></th>\n",
              "      <th>EncodedPixels</th>\n",
              "      <th>label</th>\n",
              "    </tr>\n",
              "  </thead>\n",
              "  <tbody>\n",
              "    <tr>\n",
              "      <th>0</th>\n",
              "      <td>264918 937 266318 937 267718 937 269118 937 27...</td>\n",
              "      <td>Fish</td>\n",
              "    </tr>\n",
              "    <tr>\n",
              "      <th>1</th>\n",
              "      <td>1355565 1002 1356965 1002 1358365 1002 1359765...</td>\n",
              "      <td>Flower</td>\n",
              "    </tr>\n",
              "    <tr>\n",
              "      <th>2</th>\n",
              "      <td>233813 878 235213 878 236613 878 238010 881 23...</td>\n",
              "      <td>Fish</td>\n",
              "    </tr>\n",
              "    <tr>\n",
              "      <th>3</th>\n",
              "      <td>1339279 519 1340679 519 1342079 519 1343479 51...</td>\n",
              "      <td>Flower</td>\n",
              "    </tr>\n",
              "    <tr>\n",
              "      <th>4</th>\n",
              "      <td>67495 350 68895 350 70295 350 71695 350 73095 ...</td>\n",
              "      <td>Sugar</td>\n",
              "    </tr>\n",
              "    <tr>\n",
              "      <th>...</th>\n",
              "      <td>...</td>\n",
              "      <td>...</td>\n",
              "    </tr>\n",
              "    <tr>\n",
              "      <th>11831</th>\n",
              "      <td>1457936 458 1459336 458 1460736 458 1462136 45...</td>\n",
              "      <td>Sugar</td>\n",
              "    </tr>\n",
              "    <tr>\n",
              "      <th>11832</th>\n",
              "      <td>12891 428 14291 428 15691 428 17091 428 18491 ...</td>\n",
              "      <td>Sugar</td>\n",
              "    </tr>\n",
              "    <tr>\n",
              "      <th>11833</th>\n",
              "      <td>1509467 305 1509773 7 1509782 2 1510867 310 15...</td>\n",
              "      <td>Flower</td>\n",
              "    </tr>\n",
              "    <tr>\n",
              "      <th>11834</th>\n",
              "      <td>39728 823 41128 823 42528 823 43928 823 45328 ...</td>\n",
              "      <td>Gravel</td>\n",
              "    </tr>\n",
              "    <tr>\n",
              "      <th>11835</th>\n",
              "      <td>1194860 675 1196260 675 1197660 675 1199060 67...</td>\n",
              "      <td>Flower</td>\n",
              "    </tr>\n",
              "  </tbody>\n",
              "</table>\n",
              "<p>11836 rows × 2 columns</p>\n",
              "</div>"
            ],
            "text/plain": [
              "                                           EncodedPixels   label\n",
              "0      264918 937 266318 937 267718 937 269118 937 27...    Fish\n",
              "1      1355565 1002 1356965 1002 1358365 1002 1359765...  Flower\n",
              "2      233813 878 235213 878 236613 878 238010 881 23...    Fish\n",
              "3      1339279 519 1340679 519 1342079 519 1343479 51...  Flower\n",
              "4      67495 350 68895 350 70295 350 71695 350 73095 ...   Sugar\n",
              "...                                                  ...     ...\n",
              "11831  1457936 458 1459336 458 1460736 458 1462136 45...   Sugar\n",
              "11832  12891 428 14291 428 15691 428 17091 428 18491 ...   Sugar\n",
              "11833  1509467 305 1509773 7 1509782 2 1510867 310 15...  Flower\n",
              "11834  39728 823 41128 823 42528 823 43928 823 45328 ...  Gravel\n",
              "11835  1194860 675 1196260 675 1197660 675 1199060 67...  Flower\n",
              "\n",
              "[11836 rows x 2 columns]"
            ]
          },
          "metadata": {
            "tags": []
          },
          "execution_count": 23
        }
      ]
    },
    {
      "cell_type": "code",
      "metadata": {
        "colab": {
          "base_uri": "https://localhost:8080/"
        },
        "id": "iSwzzDRt-COI",
        "outputId": "320e2fb0-0a91-42dd-bfec-4590f76c58ff"
      },
      "source": [
        "#Ici on split le dataframe train en 2 groupes de 2 dataframes X et y, en precisant cette fois le nombre d'observations exact attendu\r\n",
        "X_df1, X_df2, y_df1, y_df2 = splitValid(train['image'], train['label'], randomState = 123, test_size = 200, shuffle = True)\r\n",
        "print(\"Nb obs train : \", train.shape)\r\n",
        "print(\"Nb obs df1   : \", X_df1.shape)\r\n",
        "print(\"Nb obs df2   : \", X_df2.shape)"
      ],
      "execution_count": 24,
      "outputs": [
        {
          "output_type": "stream",
          "text": [
            "Nb obs train :  (11836, 3)\n",
            "Nb obs df1   :  (11636,)\n",
            "Nb obs df2   :  (200,)\n"
          ],
          "name": "stdout"
        }
      ]
    }
  ]
}