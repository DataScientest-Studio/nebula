{
  "nbformat": 4,
  "nbformat_minor": 0,
  "metadata": {
    "colab": {
      "name": "librairies_sample.ipynb",
      "provenance": [],
      "collapsed_sections": [],
      "toc_visible": true
    },
    "kernelspec": {
      "display_name": "Python 3",
      "name": "python3"
    }
  },
  "cells": [
    {
      "cell_type": "markdown",
      "metadata": {
        "id": "pSUM9Y4E81tL"
      },
      "source": [
        "# **1. Librairie data_processing**"
      ]
    },
    {
      "cell_type": "markdown",
      "metadata": {
        "id": "zqfyUEZnoLlL"
      },
      "source": [
        "## **Intructions**"
      ]
    },
    {
      "cell_type": "markdown",
      "metadata": {
        "id": "kClE-zLeHMvp"
      },
      "source": [
        "  Il faut creer un repertoire \"packages\" puis y placer le fichier \"data_processing.py\"\r\n",
        "\r\n",
        "  Fonctions disponibles :\r\n",
        "  - copy_data_from_drive\r\n",
        "  - load_train\r\n",
        "  - label_parsing\r\n",
        "  - one_hot_encoding"
      ]
    },
    {
      "cell_type": "markdown",
      "metadata": {
        "id": "fBMRg-JxjY9t"
      },
      "source": [
        "## **Exemples d'utilisation**"
      ]
    },
    {
      "cell_type": "markdown",
      "metadata": {
        "id": "usUGbwKO_4gl"
      },
      "source": [
        "Import des librairies"
      ]
    },
    {
      "cell_type": "code",
      "metadata": {
        "id": "NCX67JJCoDCp"
      },
      "source": [
        "from packages.data_processing import *\r\n",
        "import pandas as pd"
      ],
      "execution_count": 2,
      "outputs": []
    },
    {
      "cell_type": "markdown",
      "metadata": {
        "id": "HyWicYTuoadn"
      },
      "source": [
        "Copie des donnees depuis le drive.<br>\r\n",
        "Renvoie VRAI si l'operation a reussie, FAUX si un probleme (repertoire ou fichier inexistant) a ete rencontre<br>\r\n",
        "Les arguments \"from_path\", \"filename\" et \"to_path\" sont disponibles."
      ]
    },
    {
      "cell_type": "code",
      "metadata": {
        "id": "M4unkuhlagrc"
      },
      "source": [
        "if not copy_data_from_drive():\r\n",
        "  print(\"Erreur au chargement des donnees depuis le drive\")"
      ],
      "execution_count": 4,
      "outputs": []
    },
    {
      "cell_type": "markdown",
      "metadata": {
        "id": "VaOgV2BRjlQi"
      },
      "source": [
        "Chargement du fichier train.csv :<br>\r\n",
        "Il est possible de preciser un argument filename, par defaut celui-ci vaut \"train.csv\""
      ]
    },
    {
      "cell_type": "code",
      "metadata": {
        "colab": {
          "base_uri": "https://localhost:8080/",
          "height": 202
        },
        "id": "TnsfBkgen2WR",
        "outputId": "d632aee0-c9b2-42e9-f800-4abcc604b5f5"
      },
      "source": [
        "train = load_train()\r\n",
        "train.head(5)"
      ],
      "execution_count": 5,
      "outputs": [
        {
          "output_type": "execute_result",
          "data": {
            "text/html": [
              "<div>\n",
              "<style scoped>\n",
              "    .dataframe tbody tr th:only-of-type {\n",
              "        vertical-align: middle;\n",
              "    }\n",
              "\n",
              "    .dataframe tbody tr th {\n",
              "        vertical-align: top;\n",
              "    }\n",
              "\n",
              "    .dataframe thead th {\n",
              "        text-align: right;\n",
              "    }\n",
              "</style>\n",
              "<table border=\"1\" class=\"dataframe\">\n",
              "  <thead>\n",
              "    <tr style=\"text-align: right;\">\n",
              "      <th></th>\n",
              "      <th>Image_Label</th>\n",
              "      <th>EncodedPixels</th>\n",
              "    </tr>\n",
              "  </thead>\n",
              "  <tbody>\n",
              "    <tr>\n",
              "      <th>0</th>\n",
              "      <td>0011165.jpg_Fish</td>\n",
              "      <td>264918 937 266318 937 267718 937 269118 937 27...</td>\n",
              "    </tr>\n",
              "    <tr>\n",
              "      <th>1</th>\n",
              "      <td>0011165.jpg_Flower</td>\n",
              "      <td>1355565 1002 1356965 1002 1358365 1002 1359765...</td>\n",
              "    </tr>\n",
              "    <tr>\n",
              "      <th>2</th>\n",
              "      <td>0011165.jpg_Gravel</td>\n",
              "      <td>NaN</td>\n",
              "    </tr>\n",
              "    <tr>\n",
              "      <th>3</th>\n",
              "      <td>0011165.jpg_Sugar</td>\n",
              "      <td>NaN</td>\n",
              "    </tr>\n",
              "    <tr>\n",
              "      <th>4</th>\n",
              "      <td>002be4f.jpg_Fish</td>\n",
              "      <td>233813 878 235213 878 236613 878 238010 881 23...</td>\n",
              "    </tr>\n",
              "  </tbody>\n",
              "</table>\n",
              "</div>"
            ],
            "text/plain": [
              "          Image_Label                                      EncodedPixels\n",
              "0    0011165.jpg_Fish  264918 937 266318 937 267718 937 269118 937 27...\n",
              "1  0011165.jpg_Flower  1355565 1002 1356965 1002 1358365 1002 1359765...\n",
              "2  0011165.jpg_Gravel                                                NaN\n",
              "3   0011165.jpg_Sugar                                                NaN\n",
              "4    002be4f.jpg_Fish  233813 878 235213 878 236613 878 238010 881 23..."
            ]
          },
          "metadata": {
            "tags": []
          },
          "execution_count": 5
        }
      ]
    },
    {
      "cell_type": "markdown",
      "metadata": {
        "id": "iryWDie6o77t"
      },
      "source": [
        "Parsing image / label<br>\r\n",
        "L'instruction dropna a volontairement ete traitee hors fonction car il n'est pas certain que nous voulions supprimer les NA dans la phase de segmentation. La laisser dans la fonction restreint par consequent le champs d'action de la fonction et nous obligera a en creer une nouvelle si besoin.<br>\r\n",
        "Il est possible de preciser un argument \"sep\" stipulant sur quel caractere le split doit etre fait, par defaut celui-ci est a \"_\"\r\n"
      ]
    },
    {
      "cell_type": "code",
      "metadata": {
        "colab": {
          "base_uri": "https://localhost:8080/",
          "height": 202
        },
        "id": "1qDjdxLRsY5N",
        "outputId": "e9d85dfa-90de-4277-d103-3d436af1133d"
      },
      "source": [
        "train = label_parsing(train)\r\n",
        "train = train.dropna()\r\n",
        "train.head(5)"
      ],
      "execution_count": 6,
      "outputs": [
        {
          "output_type": "execute_result",
          "data": {
            "text/html": [
              "<div>\n",
              "<style scoped>\n",
              "    .dataframe tbody tr th:only-of-type {\n",
              "        vertical-align: middle;\n",
              "    }\n",
              "\n",
              "    .dataframe tbody tr th {\n",
              "        vertical-align: top;\n",
              "    }\n",
              "\n",
              "    .dataframe thead th {\n",
              "        text-align: right;\n",
              "    }\n",
              "</style>\n",
              "<table border=\"1\" class=\"dataframe\">\n",
              "  <thead>\n",
              "    <tr style=\"text-align: right;\">\n",
              "      <th></th>\n",
              "      <th>EncodedPixels</th>\n",
              "      <th>image</th>\n",
              "      <th>label</th>\n",
              "    </tr>\n",
              "  </thead>\n",
              "  <tbody>\n",
              "    <tr>\n",
              "      <th>0</th>\n",
              "      <td>264918 937 266318 937 267718 937 269118 937 27...</td>\n",
              "      <td>0011165.jpg</td>\n",
              "      <td>Fish</td>\n",
              "    </tr>\n",
              "    <tr>\n",
              "      <th>1</th>\n",
              "      <td>1355565 1002 1356965 1002 1358365 1002 1359765...</td>\n",
              "      <td>0011165.jpg</td>\n",
              "      <td>Flower</td>\n",
              "    </tr>\n",
              "    <tr>\n",
              "      <th>4</th>\n",
              "      <td>233813 878 235213 878 236613 878 238010 881 23...</td>\n",
              "      <td>002be4f.jpg</td>\n",
              "      <td>Fish</td>\n",
              "    </tr>\n",
              "    <tr>\n",
              "      <th>5</th>\n",
              "      <td>1339279 519 1340679 519 1342079 519 1343479 51...</td>\n",
              "      <td>002be4f.jpg</td>\n",
              "      <td>Flower</td>\n",
              "    </tr>\n",
              "    <tr>\n",
              "      <th>7</th>\n",
              "      <td>67495 350 68895 350 70295 350 71695 350 73095 ...</td>\n",
              "      <td>002be4f.jpg</td>\n",
              "      <td>Sugar</td>\n",
              "    </tr>\n",
              "  </tbody>\n",
              "</table>\n",
              "</div>"
            ],
            "text/plain": [
              "                                       EncodedPixels        image   label\n",
              "0  264918 937 266318 937 267718 937 269118 937 27...  0011165.jpg    Fish\n",
              "1  1355565 1002 1356965 1002 1358365 1002 1359765...  0011165.jpg  Flower\n",
              "4  233813 878 235213 878 236613 878 238010 881 23...  002be4f.jpg    Fish\n",
              "5  1339279 519 1340679 519 1342079 519 1343479 51...  002be4f.jpg  Flower\n",
              "7  67495 350 68895 350 70295 350 71695 350 73095 ...  002be4f.jpg   Sugar"
            ]
          },
          "metadata": {
            "tags": []
          },
          "execution_count": 6
        }
      ]
    },
    {
      "cell_type": "markdown",
      "metadata": {
        "id": "zjKqxjIi6H0N"
      },
      "source": [
        "Codage disjonctif **avec** reinitialisation des indexes"
      ]
    },
    {
      "cell_type": "code",
      "metadata": {
        "colab": {
          "base_uri": "https://localhost:8080/",
          "height": 202
        },
        "id": "dBeXZQeqzTid",
        "outputId": "9fea9ece-8dae-4e6d-81cd-ae5edc928eb1"
      },
      "source": [
        "train_encoded = one_hot_encoding(train)\r\n",
        "train_encoded.head()"
      ],
      "execution_count": 7,
      "outputs": [
        {
          "output_type": "execute_result",
          "data": {
            "text/html": [
              "<div>\n",
              "<style scoped>\n",
              "    .dataframe tbody tr th:only-of-type {\n",
              "        vertical-align: middle;\n",
              "    }\n",
              "\n",
              "    .dataframe tbody tr th {\n",
              "        vertical-align: top;\n",
              "    }\n",
              "\n",
              "    .dataframe thead th {\n",
              "        text-align: right;\n",
              "    }\n",
              "</style>\n",
              "<table border=\"1\" class=\"dataframe\">\n",
              "  <thead>\n",
              "    <tr style=\"text-align: right;\">\n",
              "      <th></th>\n",
              "      <th>image</th>\n",
              "      <th>Fish</th>\n",
              "      <th>Flower</th>\n",
              "      <th>Gravel</th>\n",
              "      <th>Sugar</th>\n",
              "    </tr>\n",
              "  </thead>\n",
              "  <tbody>\n",
              "    <tr>\n",
              "      <th>0</th>\n",
              "      <td>0011165.jpg</td>\n",
              "      <td>1</td>\n",
              "      <td>1</td>\n",
              "      <td>0</td>\n",
              "      <td>0</td>\n",
              "    </tr>\n",
              "    <tr>\n",
              "      <th>1</th>\n",
              "      <td>002be4f.jpg</td>\n",
              "      <td>1</td>\n",
              "      <td>1</td>\n",
              "      <td>0</td>\n",
              "      <td>1</td>\n",
              "    </tr>\n",
              "    <tr>\n",
              "      <th>2</th>\n",
              "      <td>0031ae9.jpg</td>\n",
              "      <td>1</td>\n",
              "      <td>1</td>\n",
              "      <td>0</td>\n",
              "      <td>1</td>\n",
              "    </tr>\n",
              "    <tr>\n",
              "      <th>3</th>\n",
              "      <td>0035239.jpg</td>\n",
              "      <td>0</td>\n",
              "      <td>1</td>\n",
              "      <td>1</td>\n",
              "      <td>0</td>\n",
              "    </tr>\n",
              "    <tr>\n",
              "      <th>4</th>\n",
              "      <td>003994e.jpg</td>\n",
              "      <td>1</td>\n",
              "      <td>0</td>\n",
              "      <td>1</td>\n",
              "      <td>1</td>\n",
              "    </tr>\n",
              "  </tbody>\n",
              "</table>\n",
              "</div>"
            ],
            "text/plain": [
              "         image  Fish  Flower  Gravel  Sugar\n",
              "0  0011165.jpg     1       1       0      0\n",
              "1  002be4f.jpg     1       1       0      1\n",
              "2  0031ae9.jpg     1       1       0      1\n",
              "3  0035239.jpg     0       1       1      0\n",
              "4  003994e.jpg     1       0       1      1"
            ]
          },
          "metadata": {
            "tags": []
          },
          "execution_count": 7
        }
      ]
    },
    {
      "cell_type": "markdown",
      "metadata": {
        "id": "zWy-pSzX4pc7"
      },
      "source": [
        "Codage disjonctif **sans** reinitialisation des indexes"
      ]
    },
    {
      "cell_type": "code",
      "metadata": {
        "colab": {
          "base_uri": "https://localhost:8080/",
          "height": 233
        },
        "id": "aykbxqlt4mmC",
        "outputId": "38edb6fe-e71f-4032-baf9-63cb1454a969"
      },
      "source": [
        "train_encoded = one_hot_encoding(train, reset_index=False)\r\n",
        "train_encoded.head()"
      ],
      "execution_count": 8,
      "outputs": [
        {
          "output_type": "execute_result",
          "data": {
            "text/html": [
              "<div>\n",
              "<style scoped>\n",
              "    .dataframe tbody tr th:only-of-type {\n",
              "        vertical-align: middle;\n",
              "    }\n",
              "\n",
              "    .dataframe tbody tr th {\n",
              "        vertical-align: top;\n",
              "    }\n",
              "\n",
              "    .dataframe thead th {\n",
              "        text-align: right;\n",
              "    }\n",
              "</style>\n",
              "<table border=\"1\" class=\"dataframe\">\n",
              "  <thead>\n",
              "    <tr style=\"text-align: right;\">\n",
              "      <th></th>\n",
              "      <th>Fish</th>\n",
              "      <th>Flower</th>\n",
              "      <th>Gravel</th>\n",
              "      <th>Sugar</th>\n",
              "    </tr>\n",
              "    <tr>\n",
              "      <th>image</th>\n",
              "      <th></th>\n",
              "      <th></th>\n",
              "      <th></th>\n",
              "      <th></th>\n",
              "    </tr>\n",
              "  </thead>\n",
              "  <tbody>\n",
              "    <tr>\n",
              "      <th>0011165.jpg</th>\n",
              "      <td>1</td>\n",
              "      <td>1</td>\n",
              "      <td>0</td>\n",
              "      <td>0</td>\n",
              "    </tr>\n",
              "    <tr>\n",
              "      <th>002be4f.jpg</th>\n",
              "      <td>1</td>\n",
              "      <td>1</td>\n",
              "      <td>0</td>\n",
              "      <td>1</td>\n",
              "    </tr>\n",
              "    <tr>\n",
              "      <th>0031ae9.jpg</th>\n",
              "      <td>1</td>\n",
              "      <td>1</td>\n",
              "      <td>0</td>\n",
              "      <td>1</td>\n",
              "    </tr>\n",
              "    <tr>\n",
              "      <th>0035239.jpg</th>\n",
              "      <td>0</td>\n",
              "      <td>1</td>\n",
              "      <td>1</td>\n",
              "      <td>0</td>\n",
              "    </tr>\n",
              "    <tr>\n",
              "      <th>003994e.jpg</th>\n",
              "      <td>1</td>\n",
              "      <td>0</td>\n",
              "      <td>1</td>\n",
              "      <td>1</td>\n",
              "    </tr>\n",
              "  </tbody>\n",
              "</table>\n",
              "</div>"
            ],
            "text/plain": [
              "             Fish  Flower  Gravel  Sugar\n",
              "image                                   \n",
              "0011165.jpg     1       1       0      0\n",
              "002be4f.jpg     1       1       0      1\n",
              "0031ae9.jpg     1       1       0      1\n",
              "0035239.jpg     0       1       1      0\n",
              "003994e.jpg     1       0       1      1"
            ]
          },
          "metadata": {
            "tags": []
          },
          "execution_count": 8
        }
      ]
    }
  ]
}